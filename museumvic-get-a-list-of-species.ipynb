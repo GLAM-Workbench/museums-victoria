{
 "cells": [
  {
   "cell_type": "markdown",
   "metadata": {},
   "source": [
    "# Get a list of species records from the Museums Victoria collection\n",
    "\n",
    "The Museums Victoria collection API accepts four `recordtype` values: 'article', 'item', 'species', and 'specimen'. In this notebook we'll build a simple harvester to download all the 'species' records.\n",
    "\n",
    "See the Museums Victoria [collection API documentation](https://collections.museumsvictoria.com.au/developers) for more information."
   ]
  },
  {
   "cell_type": "markdown",
   "metadata": {},
   "source": [
    "## Import what we need"
   ]
  },
  {
   "cell_type": "code",
   "execution_count": 7,
   "metadata": {},
   "outputs": [],
   "source": [
    "import requests\n",
    "from tqdm.auto import tqdm\n",
    "import pandas as pd\n",
    "from IPython.display import display, FileLink"
   ]
  },
  {
   "cell_type": "code",
   "execution_count": 2,
   "metadata": {},
   "outputs": [],
   "source": [
    "# Base search url\n",
    "SEARCH_URL = 'https://collections.museumsvictoria.com.au/api/search'"
   ]
  },
  {
   "cell_type": "markdown",
   "metadata": {},
   "source": [
    "## Define some functions"
   ]
  },
  {
   "cell_type": "code",
   "execution_count": 3,
   "metadata": {},
   "outputs": [],
   "source": [
    "def get_totals(params):\n",
    "    '''\n",
    "    Get the total results and pages from a search.\n",
    "    '''\n",
    "    response = requests.get(SEARCH_URL, params=params)\n",
    "    # The total results and pages values are in the API response's headers!\n",
    "    total_results = int(response.headers['Total-Results'])\n",
    "    total_pages = int(response.headers['Total-Pages'])\n",
    "    return (total_results, total_pages)\n",
    "\n",
    "def harvest_species():\n",
    "    '''\n",
    "    Download all the species records, saving the record id, taxon name, and common name.\n",
    "    Returns a list of species.\n",
    "    '''\n",
    "    species = []\n",
    "    params = {\n",
    "        'query': ' ',\n",
    "        'recordtype': 'species',\n",
    "        'sort': 'date',\n",
    "        'perpage': 100\n",
    "    }\n",
    "    total_results, total_pages = get_totals(params)\n",
    "    # Loop through the total pages, downloading a page of results at a time\n",
    "    for page in tqdm(range(1, total_pages + 1)):\n",
    "        # Update the page value\n",
    "        params['page'] = page\n",
    "        # Make a request to the API\n",
    "        response = requests.get(SEARCH_URL, params=params)\n",
    "        # Loop through the results\n",
    "        for record in response.json():\n",
    "            # Look for the taxonomy section of the record\n",
    "            taxonomy = record['taxonomy']\n",
    "            if taxonomy:\n",
    "                # Save species info\n",
    "                species.append({'id': record['id'], 'taxon_name': taxonomy['taxonName'], 'common_name': taxonomy['commonName']})\n",
    "    return species"
   ]
  },
  {
   "cell_type": "markdown",
   "metadata": {},
   "source": [
    "## Harvest the records!"
   ]
  },
  {
   "cell_type": "code",
   "execution_count": 4,
   "metadata": {},
   "outputs": [
    {
     "data": {
      "application/vnd.jupyter.widget-view+json": {
       "model_id": "88abe639c4a44b4ca964a2bb7f4f11ce",
       "version_major": 2,
       "version_minor": 0
      },
      "text/plain": [
       "HBox(children=(FloatProgress(value=0.0, max=15.0), HTML(value='')))"
      ]
     },
     "metadata": {},
     "output_type": "display_data"
    },
    {
     "name": "stdout",
     "output_type": "stream",
     "text": [
      "\n"
     ]
    }
   ],
   "source": [
    "species = harvest_species()"
   ]
  },
  {
   "cell_type": "markdown",
   "metadata": {},
   "source": [
    "## Convert to a dataframe and save as a CSV"
   ]
  },
  {
   "cell_type": "code",
   "execution_count": 5,
   "metadata": {},
   "outputs": [
    {
     "data": {
      "text/html": [
       "<div>\n",
       "<style scoped>\n",
       "    .dataframe tbody tr th:only-of-type {\n",
       "        vertical-align: middle;\n",
       "    }\n",
       "\n",
       "    .dataframe tbody tr th {\n",
       "        vertical-align: top;\n",
       "    }\n",
       "\n",
       "    .dataframe thead th {\n",
       "        text-align: right;\n",
       "    }\n",
       "</style>\n",
       "<table border=\"1\" class=\"dataframe\">\n",
       "  <thead>\n",
       "    <tr style=\"text-align: right;\">\n",
       "      <th></th>\n",
       "      <th>id</th>\n",
       "      <th>taxon_name</th>\n",
       "      <th>common_name</th>\n",
       "    </tr>\n",
       "  </thead>\n",
       "  <tbody>\n",
       "    <tr>\n",
       "      <th>0</th>\n",
       "      <td>species/15849</td>\n",
       "      <td>Nephila edulis</td>\n",
       "      <td>Australian Golden Orb-weaver Spider</td>\n",
       "    </tr>\n",
       "    <tr>\n",
       "      <th>1</th>\n",
       "      <td>species/16848</td>\n",
       "      <td>Enypniastes eximia</td>\n",
       "      <td>Swimming sea cucumber</td>\n",
       "    </tr>\n",
       "    <tr>\n",
       "      <th>2</th>\n",
       "      <td>species/8608</td>\n",
       "      <td>Cryptocheilus bicolor</td>\n",
       "      <td>Spider Hunting Wasp</td>\n",
       "    </tr>\n",
       "    <tr>\n",
       "      <th>3</th>\n",
       "      <td>species/15155</td>\n",
       "      <td>Argiope trifasciata</td>\n",
       "      <td>Banded Garden Spider</td>\n",
       "    </tr>\n",
       "    <tr>\n",
       "      <th>4</th>\n",
       "      <td>species/12426</td>\n",
       "      <td>Stanwellia grisea</td>\n",
       "      <td>Melbourne Trapdoor Spider</td>\n",
       "    </tr>\n",
       "  </tbody>\n",
       "</table>\n",
       "</div>"
      ],
      "text/plain": [
       "              id             taxon_name                          common_name\n",
       "0  species/15849         Nephila edulis  Australian Golden Orb-weaver Spider\n",
       "1  species/16848     Enypniastes eximia                Swimming sea cucumber\n",
       "2   species/8608  Cryptocheilus bicolor                  Spider Hunting Wasp\n",
       "3  species/15155    Argiope trifasciata                 Banded Garden Spider\n",
       "4  species/12426      Stanwellia grisea            Melbourne Trapdoor Spider"
      ]
     },
     "execution_count": 5,
     "metadata": {},
     "output_type": "execute_result"
    }
   ],
   "source": [
    "df = pd.DataFrame(species)\n",
    "df.head()"
   ]
  },
  {
   "cell_type": "markdown",
   "metadata": {},
   "source": [
    "How many species are recorded in the Museum of Victoria collection?"
   ]
  },
  {
   "cell_type": "code",
   "execution_count": 6,
   "metadata": {},
   "outputs": [
    {
     "data": {
      "text/plain": [
       "(1408, 3)"
      ]
     },
     "execution_count": 6,
     "metadata": {},
     "output_type": "execute_result"
    }
   ],
   "source": [
    "df.shape"
   ]
  },
  {
   "cell_type": "markdown",
   "metadata": {},
   "source": [
    "Save the list as a CSV file so we can make use of it elsewhere"
   ]
  },
  {
   "cell_type": "code",
   "execution_count": 8,
   "metadata": {},
   "outputs": [
    {
     "data": {
      "text/html": [
       "<a href='museum-victoria-species.csv' target='_blank'>museum-victoria-species.csv</a><br>"
      ],
      "text/plain": [
       "/Volumes/Workspace/mycode/glam-workbench/museums-victoria/notebooks/museum-victoria-species.csv"
      ]
     },
     "metadata": {},
     "output_type": "display_data"
    }
   ],
   "source": [
    "df.to_csv('museum-victoria-species.csv', index=False)\n",
    "display(FileLink('museum-victoria-species.csv'))"
   ]
  },
  {
   "cell_type": "markdown",
   "metadata": {},
   "source": [
    "----\n",
    "\n",
    "Created by [Tim Sherratt](https://timsherratt.org/) for the [GLAM Workbench](https://glam-workbench.github.io/)."
   ]
  }
 ],
 "metadata": {
  "kernelspec": {
   "display_name": "Python 3",
   "language": "python",
   "name": "python3"
  },
  "language_info": {
   "codemirror_mode": {
    "name": "ipython",
    "version": 3
   },
   "file_extension": ".py",
   "mimetype": "text/x-python",
   "name": "python",
   "nbconvert_exporter": "python",
   "pygments_lexer": "ipython3",
   "version": "3.7.7"
  }
 },
 "nbformat": 4,
 "nbformat_minor": 4
}
